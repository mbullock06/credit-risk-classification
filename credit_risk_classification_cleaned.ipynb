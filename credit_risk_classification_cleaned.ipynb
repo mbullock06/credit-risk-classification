{
 "cells": [
  {
   "cell_type": "markdown",
   "id": "7554ab11",
   "metadata": {},
   "source": [
    "# Credit Risk Classification\n",
    "\n",
    "This notebook presents a machine learning approach to **credit risk classification**, where the goal is to determine whether a loan is high-risk or healthy based on applicant and loan features.\n",
    "\n",
    "We will:\n",
    "- Explore and preprocess the dataset\n",
    "- Train machine learning models\n",
    "- Evaluate performance using relevant metrics\n",
    "- Provide conclusions and next steps\n"
   ]
  },
  {
   "cell_type": "markdown",
   "id": "dfed0ee2",
   "metadata": {},
   "source": [
    "## 1. Data Loading and Exploration\n",
    "\n",
    "We begin by loading the data to determine the which column we need to identify as **labels**. This is what the model will be predicting. The remaining data is identified as **features** which the model will use to predict the labels."
   ]
  },
  {
   "cell_type": "code",
   "execution_count": null,
   "id": "1f91feed",
   "metadata": {},
   "outputs": [],
   "source": [
    "# Import the modules\n",
    "import numpy as np\n",
    "import pandas as pd\n",
    "from pathlib import Path"
   ]
  },
  {
   "cell_type": "code",
   "execution_count": null,
   "id": "15db801e",
   "metadata": {},
   "outputs": [],
   "source": [
    "# Load the dataset\n",
    "# Read the CSV file from the Resources folder into a Pandas DataFrame\n",
    "csv = Path('Resources/lending_data.csv')\n",
    "lending_df = pd.read_csv(csv)\n",
    "\n",
    "# Review the DataFrame\n",
    "lending_df.head()"
   ]
  },
  {
   "cell_type": "code",
   "execution_count": null,
   "metadata": {},
   "outputs": [],
   "source": [
    "# Separate the data into labels and features\n",
    "\n",
    "# Separate the y variable, the labels\n",
    "y = lending_df[\"loan_status\"]\n",
    "# Separate the X variable, the features\n",
    "X = lending_df.drop(columns=\"loan_status\")"
   ]
  },
  {
   "cell_type": "code",
   "execution_count": null,
   "metadata": {},
   "outputs": [],
   "source": [
    "# Review the y variable Series\n",
    "y.head()"
   ]
  },
  {
   "cell_type": "code",
   "execution_count": null,
   "id": "19f26dbd",
   "metadata": {},
   "outputs": [],
   "source": [
    "# Review the X variable DataFrame\n",
    "X.head()"
   ]
  },
  {
   "cell_type": "markdown",
   "metadata": {},
   "source": [
    "It is important to observe the ratio of the "
   ]
  },
  {
   "cell_type": "code",
   "execution_count": null,
   "metadata": {},
   "outputs": [],
   "source": [
    "# Check the balance of our target values\n",
    "y.value_counts()"
   ]
  },
  {
   "cell_type": "markdown",
   "id": "bc8dcd3d",
   "metadata": {},
   "source": [
    "## 2. Data Preprocessing\n",
    "\n",
    "Before training, we preprocess the data by encoding categorical variables, splitting features and target, and scaling numerical values."
   ]
  },
  {
   "cell_type": "code",
   "execution_count": null,
   "id": "3fcaae12",
   "metadata": {},
   "outputs": [],
   "source": [
    "# Import the train_test_split module\n",
    "from sklearn.model_selection import train_test_split\n",
    "\n",
    "# Split the data using train_test_split\n",
    "# Assign a random_state of 1 to the function\n",
    "X_train, X_test, y_train, y_test = train_test_split(X,y, random_state=1)"
   ]
  },
  {
   "cell_type": "markdown",
   "id": "ceaf5d88",
   "metadata": {},
   "source": [
    "## 3. Model Training\n",
    "\n",
    "We train models to classify loans as **healthy (0)** or **high-risk (1)** using the data binned into the *train* group."
   ]
  },
  {
   "cell_type": "code",
   "execution_count": null,
   "id": "3e662aeb",
   "metadata": {},
   "outputs": [],
   "source": [
    "# Import the LogisticRegression module from SKLearn\n",
    "from sklearn.linear_model import LogisticRegression\n",
    "\n",
    "# Instantiate the Logistic Regression model\n",
    "# Assign a random_state parameter of 1 to the model\n",
    "model = LogisticRegression(solver='lbfgs', random_state=1)\n",
    "\n",
    "# Fit the model using training data\n",
    "model.fit(X_train, y_train)"
   ]
  },
  {
   "cell_type": "markdown",
   "metadata": {},
   "source": [
    "## 4. Model Predictions\n",
    "\n",
    "After training the model is used to make predictions for the data binned into the *test* group."
   ]
  },
  {
   "cell_type": "code",
   "execution_count": null,
   "metadata": {},
   "outputs": [],
   "source": [
    "# Make a prediction using the testing data\n",
    "prediction = model.predict(X_test)\n",
    "pd.DataFrame({\"Prediction\": prediction, \"Actual\": y_test})"
   ]
  },
  {
   "cell_type": "markdown",
   "id": "cb879334",
   "metadata": {},
   "source": [
    "## 5. Model Evaluation\n",
    "\n",
    "We evaluate models using **accuracy, precision, recall, and F1-score**, with particular attention to recall for identifying high-risk loans."
   ]
  },
  {
   "cell_type": "code",
   "execution_count": null,
   "metadata": {},
   "outputs": [],
   "source": [
    "# Import the modules\n",
    "from sklearn.metrics import balanced_accuracy_score, confusion_matrix, classification_report"
   ]
  },
  {
   "cell_type": "code",
   "execution_count": null,
   "metadata": {},
   "outputs": [],
   "source": [
    "# Print the balanced_accuracy score of the model\n",
    "print(f\"Accuracy Score: {balanced_accuracy_score(y_test, prediction):.3f}\")"
   ]
  },
  {
   "cell_type": "code",
   "execution_count": null,
   "id": "6b264597",
   "metadata": {},
   "outputs": [],
   "source": [
    "# Generate a confusion matrix for the model\n",
    "print(confusion_matrix(y_test, prediction))"
   ]
  },
  {
   "cell_type": "code",
   "execution_count": null,
   "id": "bebd8c34",
   "metadata": {},
   "outputs": [],
   "source": [
    "# Print the classification report for the model\n",
    "print(classification_report(y_test, prediction))"
   ]
  },
  {
   "cell_type": "markdown",
   "id": "e7fc7cd6",
   "metadata": {},
   "source": [
    "## 6. Conclusion & Insights\n",
    "\n",
    "- The logistic regression model provides interpretable results and solid recall for high-risk loans.\n",
    "- Correctly identifying risky loans helps reduce default rates.\n",
    "- While accuracy is important, recall is prioritized in this domain.\n"
   ]
  },
  {
   "cell_type": "markdown",
   "id": "251489c2",
   "metadata": {},
   "source": [
    "## 7. Next Steps\n",
    "\n",
    "- Perform hyperparameter tuning\n",
    "- Try advanced algorithms\n",
    "- Conduct feature engineering for domain-specific insights\n"
   ]
  }
 ],
 "metadata": {
  "kernelspec": {
   "display_name": "Python 3",
   "language": "python",
   "name": "python3"
  },
  "language_info": {
   "codemirror_mode": {
    "name": "ipython",
    "version": 3
   },
   "file_extension": ".py",
   "mimetype": "text/x-python",
   "name": "python",
   "nbconvert_exporter": "python",
   "pygments_lexer": "ipython3",
   "version": "3.10.11"
  }
 },
 "nbformat": 4,
 "nbformat_minor": 4
}
